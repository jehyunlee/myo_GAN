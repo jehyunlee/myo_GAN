{
 "cells": [
  {
   "cell_type": "code",
   "execution_count": 2,
   "metadata": {},
   "outputs": [
    {
     "name": "stderr",
     "output_type": "stream",
     "text": [
      "In /opt/conda/lib/python3.7/site-packages/matplotlib/mpl-data/stylelib/_classic_test.mplstyle: \n",
      "The text.latex.preview rcparam was deprecated in Matplotlib 3.3 and will be removed two minor releases later.\n",
      "In /opt/conda/lib/python3.7/site-packages/matplotlib/mpl-data/stylelib/_classic_test.mplstyle: \n",
      "The mathtext.fallback_to_cm rcparam was deprecated in Matplotlib 3.3 and will be removed two minor releases later.\n",
      "In /opt/conda/lib/python3.7/site-packages/matplotlib/mpl-data/stylelib/_classic_test.mplstyle: Support for setting the 'mathtext.fallback_to_cm' rcParam is deprecated since 3.3 and will be removed two minor releases later; use 'mathtext.fallback : 'cm' instead.\n",
      "In /opt/conda/lib/python3.7/site-packages/matplotlib/mpl-data/stylelib/_classic_test.mplstyle: \n",
      "The validate_bool_maybe_none function was deprecated in Matplotlib 3.3 and will be removed two minor releases later.\n",
      "In /opt/conda/lib/python3.7/site-packages/matplotlib/mpl-data/stylelib/_classic_test.mplstyle: \n",
      "The savefig.jpeg_quality rcparam was deprecated in Matplotlib 3.3 and will be removed two minor releases later.\n",
      "In /opt/conda/lib/python3.7/site-packages/matplotlib/mpl-data/stylelib/_classic_test.mplstyle: \n",
      "The keymap.all_axes rcparam was deprecated in Matplotlib 3.3 and will be removed two minor releases later.\n",
      "In /opt/conda/lib/python3.7/site-packages/matplotlib/mpl-data/stylelib/_classic_test.mplstyle: \n",
      "The animation.avconv_path rcparam was deprecated in Matplotlib 3.3 and will be removed two minor releases later.\n",
      "In /opt/conda/lib/python3.7/site-packages/matplotlib/mpl-data/stylelib/_classic_test.mplstyle: \n",
      "The animation.avconv_args rcparam was deprecated in Matplotlib 3.3 and will be removed two minor releases later.\n"
     ]
    }
   ],
   "source": [
    "%matplotlib inline\n",
    "\n",
    "import numpy as np\n",
    "import pandas as pd\n",
    "import matplotlib.pyplot as plt"
   ]
  },
  {
   "cell_type": "code",
   "execution_count": 3,
   "metadata": {},
   "outputs": [
    {
     "data": {
      "text/plain": [
       "'1.7.0+cu101'"
      ]
     },
     "execution_count": 3,
     "metadata": {},
     "output_type": "execute_result"
    }
   ],
   "source": [
    "torch.__version__"
   ]
  },
  {
   "cell_type": "code",
   "execution_count": 4,
   "metadata": {},
   "outputs": [
    {
     "name": "stdout",
     "output_type": "stream",
     "text": [
      "# DEVICE 0: Tesla V100-PCIE-32GB\n",
      "- Memory Usage:\n",
      "  Allocated: 0.0 GB\n",
      "  Cached:    0.0 GB\n",
      "\n",
      "# DEVICE 1: Tesla V100-PCIE-32GB\n",
      "- Memory Usage:\n",
      "  Allocated: 0.0 GB\n",
      "  Cached:    0.0 GB\n",
      "\n",
      "# DEVICE 2: Tesla V100-PCIE-32GB\n",
      "- Memory Usage:\n",
      "  Allocated: 0.0 GB\n",
      "  Cached:    0.0 GB\n",
      "\n"
     ]
    },
    {
     "name": "stderr",
     "output_type": "stream",
     "text": [
      "/opt/conda/lib/python3.7/site-packages/torch/cuda/memory.py:346: FutureWarning: torch.cuda.memory_cached has been renamed to torch.cuda.memory_reserved\n",
      "  FutureWarning)\n"
     ]
    }
   ],
   "source": [
    "import torch\n",
    "import torch.nn as nn\n",
    "\n",
    "if torch.cuda.is_available():\n",
    "    for i in range(torch.cuda.device_count()):\n",
    "        print(f\"# DEVICE {i}: {torch.cuda.get_device_name(i)}\")\n",
    "        print(\"- Memory Usage:\")\n",
    "        print(f\"  Allocated: {round(torch.cuda.memory_allocated(i)/1024**3,1)} GB\")\n",
    "        print(f\"  Cached:    {round(torch.cuda.memory_cached(i)/1024**3,1)} GB\\n\")\n",
    "        \n",
    "else:\n",
    "    print(\"# GPU is not available\")"
   ]
  },
  {
   "cell_type": "code",
   "execution_count": 5,
   "metadata": {},
   "outputs": [
    {
     "name": "stdout",
     "output_type": "stream",
     "text": [
      "# Current cuda device:  0\n"
     ]
    }
   ],
   "source": [
    "# GPU 할당 변경하기\n",
    "GPU_NUM = 0 # 원하는 GPU 번호 입력\n",
    "device = torch.device(f'cuda:{GPU_NUM}' if torch.cuda.is_available() else 'cpu')\n",
    "torch.cuda.set_device(device) # change allocation of current GPU\n",
    "\n",
    "print ('# Current cuda device: ', torch.cuda.current_device()) # check"
   ]
  },
  {
   "cell_type": "code",
   "execution_count": 6,
   "metadata": {},
   "outputs": [
    {
     "name": "stdout",
     "output_type": "stream",
     "text": [
      "using cuda: 0, Tesla V100-PCIE-32GB\n"
     ]
    }
   ],
   "source": [
    "if torch.cuda.is_available():\n",
    "    torch.set_default_tensor_type(torch.cuda.FloatTensor)\n",
    "    print(f\"using cuda: {GPU_NUM}, {torch.cuda.get_device_name(GPU_NUM)}\")"
   ]
  },
  {
   "cell_type": "code",
   "execution_count": 7,
   "metadata": {},
   "outputs": [],
   "source": [
    "from torch.utils.data import Dataset\n",
    "\n",
    "class MnistDataset(Dataset):\n",
    "    def __init__(self, csv_file):\n",
    "        self.data_df = pd.read_csv(csv_file, header=None)\n",
    "        pass\n",
    "    \n",
    "    def __len__(self):\n",
    "        return len(self.data_df)\n",
    "    \n",
    "    def __getitem__(self, index):\n",
    "        label = self.data_df.iloc[index, 0]\n",
    "        target = torch.zeros((10))\n",
    "        target[label] = 1.0\n",
    "        \n",
    "        image_values = torch.Tensor(self.data_df.iloc[index, 1:].values)/255.0\n",
    "        \n",
    "        return label, image_values, target\n",
    "    \n",
    "    def plot_image(self, index):\n",
    "        img = self.data_df.iloc[index, 1:].values.reshape(28, 28)\n",
    "        plt.title(f\"label = {self.data_df.iloc[index, 0]}\")\n",
    "        plt.imshow(img, interpolation='none', cmap='Blues')\n",
    "        "
   ]
  },
  {
   "cell_type": "code",
   "execution_count": 8,
   "metadata": {},
   "outputs": [
    {
     "data": {
      "image/png": "[encoded data removed]",
      "text/plain": [
       "<Figure size 432x288 with 1 Axes>"
      ]
     },
     "metadata": {
      "needs_background": "light"
     },
     "output_type": "display_data"
    }
   ],
   "source": [
    "mnist_dataset = MnistDataset(\"./myo_gan/mnist_train.csv\")\n",
    "mnist_dataset.plot_image(7)"
   ]
  },
  {
   "cell_type": "code",
   "execution_count": 9,
   "metadata": {},
   "outputs": [],
   "source": [
    "def generate_random_image(size):\n",
    "    random_data = torch.rand(size)\n",
    "    return random_data\n",
    "\n",
    "def generate_random_seed(size):\n",
    "    random_data = torch.randn(size)\n",
    "    return random_data"
   ]
  },
  {
   "cell_type": "code",
   "execution_count": null,
   "metadata": {},
   "outputs": [],
   "source": [
    "generate_random_image(10)"
   ]
  },
  {
   "cell_type": "code",
   "execution_count": null,
   "metadata": {},
   "outputs": [],
   "source": [
    "generate_random_seed(10)"
   ]
  },
  {
   "cell_type": "code",
   "execution_count": null,
   "metadata": {},
   "outputs": [],
   "source": [
    "class Discriminator(nn.Module):\n",
    "    def __init__(self):\n",
    "        super().__init__()\n",
    "        \n",
    "        self.model = nn.Sequential(\n",
    "            nn.Linear(784, 200),\n",
    "            nn.LeakyReLU(0.02),\n",
    "            nn.LayerNorm(200),\n",
    "            nn.Linear(200, 1),\n",
    "            nn.Sigmoid()\n",
    "        )\n",
    "        self.model = self.model.cuda()\n",
    "        \n",
    "        self.loss_function = nn.BCELoss()\n",
    "        self.optimizer = torch.optim.Adam(self.parameters(), lr=0.0001)\n",
    "        \n",
    "        self.counter = 0\n",
    "        self.progress = []\n",
    "        \n",
    "    def forward(self, inputs):\n",
    "        return self.model(inputs)\n",
    "    \n",
    "    def train(self, inputs, targets):\n",
    "        outputs = self.forward(inputs)\n",
    "        \n",
    "        loss = self.loss_function(outputs, targets)\n",
    "        \n",
    "        self.optimizer.zero_grad()\n",
    "        loss.backward()\n",
    "        self.optimizer.step()\n",
    "        \n",
    "        self.counter += 1\n",
    "        if self.counter % 10 == 0:\n",
    "            self.progress.append(loss.item())\n",
    "        if self.counter % 10000 == 0:\n",
    "            print(f\"counter= {self.counter}\")\n",
    "            \n",
    "    def plot_progress(self):\n",
    "        df = pd.DataFrame(self.progress, columns=[\"loss\"])\n",
    "        df.plot(ylim=(0), figsize=(16, 8), alpha=0.1, marker=\".\", grid=True, yticks=(0, 0.25, 0.5, 1.0, 5.0))"
   ]
  },
  {
   "cell_type": "code",
   "execution_count": null,
   "metadata": {},
   "outputs": [],
   "source": [
    "D = Discriminator()\n",
    "\n",
    "for label, image_data_tensor, target_tensor in mnist_dataset:\n",
    "    # real data\n",
    "    D.train(image_data_tensor, torch.Tensor([1.0]))\n",
    "    \n",
    "    # fake data\n",
    "    D.train(generate_random_image(784), torch.Tensor([0.0]))\n",
    "    "
   ]
  },
  {
   "cell_type": "code",
   "execution_count": null,
   "metadata": {},
   "outputs": [],
   "source": [
    "D.plot_progress()"
   ]
  },
  {
   "cell_type": "code",
   "execution_count": null,
   "metadata": {},
   "outputs": [],
   "source": [
    "import random\n",
    "\n",
    "for i in range(4):\n",
    "    image_data_tensor = mnist_dataset[random.randint(0, 60000)][1]\n",
    "    print(D.forward(image_data_tensor).item())"
   ]
  },
  {
   "cell_type": "code",
   "execution_count": null,
   "metadata": {},
   "outputs": [],
   "source": [
    "for i in range(4):\n",
    "    print(D.forward(generate_random_image(784)).item())"
   ]
  },
  {
   "cell_type": "code",
   "execution_count": null,
   "metadata": {},
   "outputs": [],
   "source": [
    "class Generator(nn.Module):\n",
    "    def __init__(self):\n",
    "        super().__init__()\n",
    "        \n",
    "        self.model = nn.Sequential(\n",
    "            nn.Linear(100, 200),\n",
    "            nn.LeakyReLU(0.02),\n",
    "            nn.LayerNorm(200),\n",
    "            nn.Linear(200, 784),\n",
    "            nn.Sigmoid()\n",
    "        )\n",
    "        self.model = self.model.cuda()\n",
    "        \n",
    "        self.optimizer = torch.optim.Adam(self.parameters(), lr=0.0001)\n",
    "        \n",
    "        self.counter = 0\n",
    "        self.progress = []\n",
    "        \n",
    "    def forward(self, inputs):\n",
    "        return self.model(inputs)\n",
    "    \n",
    "    def train(self, D, inputs, targets):\n",
    "        g_output = self.forward(inputs)\n",
    "        \n",
    "        d_output = D.forward(g_output)\n",
    "        \n",
    "        loss = D.loss_function(d_output, targets)\n",
    "        \n",
    "        self.counter += 1\n",
    "        if self.counter % 10 == 0:\n",
    "            self.progress.append(loss.item())\n",
    "            \n",
    "        self.optimizer.zero_grad()\n",
    "        loss.backward()\n",
    "        self.optimizer.step()\n",
    "        \n",
    "    def plot_progress(self):\n",
    "        df = pd.DataFrame(self.progress, columns=[\"loss\"])\n",
    "        df.plot(ylim=(0), figsize=(16, 8), alpha=0.1, marker=\".\", grid=True, yticks=(0, 0.25, 0.5, 1.0, 5.0))\n",
    "        "
   ]
  },
  {
   "cell_type": "code",
   "execution_count": null,
   "metadata": {},
   "outputs": [],
   "source": [
    "G = Generator()\n",
    "\n",
    "output = G.forward(generate_random_seed(100))\n",
    "img = output.cpu().detach().numpy().reshape(28, 28)\n",
    "plt.imshow(img, cmap=\"Blues\")"
   ]
  },
  {
   "cell_type": "code",
   "execution_count": null,
   "metadata": {},
   "outputs": [],
   "source": [
    "%%time\n",
    "\n",
    "D = Discriminator()\n",
    "G = Generator()\n",
    "\n",
    "epochs = 4\n",
    "\n",
    "for epoch in range(epochs):\n",
    "    print(f\"epoch= {epoch+1}\")\n",
    "    \n",
    "    for label, image_data_tensor, target_tensor in mnist_dataset:\n",
    "        D.train(image_data_tensor, torch.Tensor([1.0]))\n",
    "        D.train(G.forward(generate_random_seed(100)).detach(), torch.Tensor([0.0]))\n",
    "        G.train(D, generate_random_seed(100), torch.Tensor([1.0]))"
   ]
  },
  {
   "cell_type": "code",
   "execution_count": null,
   "metadata": {},
   "outputs": [],
   "source": [
    "D.plot_progress()"
   ]
  },
  {
   "cell_type": "code",
   "execution_count": null,
   "metadata": {},
   "outputs": [],
   "source": [
    "G.plot_progress()"
   ]
  },
  {
   "cell_type": "code",
   "execution_count": null,
   "metadata": {},
   "outputs": [],
   "source": [
    "fig, axes = plt.subplots(ncols=3, nrows=2, figsize=(16, 8))\n",
    "for ax in axes.ravel():\n",
    "    output = G.forward(generate_random_seed(100))\n",
    "    img = output.cpu().detach().numpy().reshape(28, 28)\n",
    "    ax.imshow(img, cmap=\"Blues\")"
   ]
  },
  {
   "cell_type": "code",
   "execution_count": null,
   "metadata": {},
   "outputs": [],
   "source": [
    "### conditional GAN"
   ]
  },
  {
   "cell_type": "code",
   "execution_count": null,
   "metadata": {},
   "outputs": [],
   "source": [
    "class Discriminator(nn.Module):\n",
    "    def __init__(self):\n",
    "        super().__init__()\n",
    "        \n",
    "        self.model = nn.Sequential(\n",
    "            nn.Linear(784+10, 200),\n",
    "            nn.LeakyReLU(0.02),\n",
    "            nn.LayerNorm(200),\n",
    "            nn.Linear(200, 1),\n",
    "            nn.Sigmoid()\n",
    "        )\n",
    "        self.model = self.model.cuda()\n",
    "        \n",
    "        self.loss_function = nn.BCELoss()\n",
    "        self.optimizer = torch.optim.Adam(self.parameters(), lr=0.0001)\n",
    "        \n",
    "        self.counter = 0\n",
    "        self.progress = []\n",
    "        \n",
    "    def forward(self, image_tensor, label_tensor):\n",
    "        inputs = torch.cat((image_tensor, label_tensor))\n",
    "        return self.model(inputs)\n",
    "    \n",
    "    def train(self, inputs, label_tensor, targets):\n",
    "        outputs = self.forward(inputs, label_tensor)\n",
    "        \n",
    "        loss = self.loss_function(outputs, targets)\n",
    "        \n",
    "        self.optimizer.zero_grad()\n",
    "        loss.backward()\n",
    "        self.optimizer.step()\n",
    "        \n",
    "        self.counter += 1\n",
    "        if self.counter % 10 == 0:\n",
    "            self.progress.append(loss.item())\n",
    "        if self.counter % 10000 == 0:\n",
    "            print(f\"counter= {self.counter}\")\n",
    "            \n",
    "    def plot_progress(self):\n",
    "        df = pd.DataFrame(self.progress, columns=[\"loss\"])\n",
    "        df.plot(ylim=(0), figsize=(16, 8), alpha=0.1, marker=\".\", grid=True, yticks=(0, 0.25, 0.5, 1.0, 5.0))"
   ]
  },
  {
   "cell_type": "code",
   "execution_count": null,
   "metadata": {},
   "outputs": [],
   "source": [
    "def generate_random_one_hot(size):\n",
    "    label_tensor = torch.zeros((size))\n",
    "    random_idx = random.randint(0, size-1)\n",
    "    label_tensor[random_idx] = 1.0\n",
    "    return label_tensor"
   ]
  },
  {
   "cell_type": "code",
   "execution_count": null,
   "metadata": {},
   "outputs": [],
   "source": [
    "D = Discriminator()\n",
    "\n",
    "for label, image_data_tensor, label_tensor in mnist_dataset:\n",
    "    D.train(image_data_tensor, label_tensor, torch.Tensor([1.0]))\n",
    "    D.train(generate_random_image(784), generate_random_one_hot(10), torch.Tensor([0.0]))"
   ]
  },
  {
   "cell_type": "code",
   "execution_count": null,
   "metadata": {},
   "outputs": [],
   "source": [
    "D.plot_progress()"
   ]
  },
  {
   "cell_type": "code",
   "execution_count": null,
   "metadata": {},
   "outputs": [],
   "source": [
    "class Generator(nn.Module):\n",
    "    def __init__(self):\n",
    "        super().__init__()\n",
    "        \n",
    "        self.model = nn.Sequential(\n",
    "            nn.Linear(100+10, 200),\n",
    "            nn.LeakyReLU(0.02),\n",
    "            nn.LayerNorm(200),\n",
    "            nn.Linear(200, 784),\n",
    "            nn.Sigmoid()\n",
    "        )\n",
    "        self.model = self.model.cuda()\n",
    "        \n",
    "        self.optimizer = torch.optim.Adam(self.parameters(), lr=0.0001)\n",
    "        \n",
    "        self.counter = 0\n",
    "        self.progress = []\n",
    "        \n",
    "    def forward(self, seed_tensor, label):\n",
    "        inputs = torch.cat((seed_tensor, label))\n",
    "        return self.model(inputs)\n",
    "    \n",
    "    def train(self, D, inputs, label_tensor, targets):\n",
    "        g_output = self.forward(inputs, label_tensor)\n",
    "        \n",
    "        d_output = D.forward(g_output, label_tensor)\n",
    "        \n",
    "        loss = D.loss_function(d_output, targets)\n",
    "        \n",
    "        self.counter += 1\n",
    "        if self.counter % 10 == 0:\n",
    "            self.progress.append(loss.item())\n",
    "            \n",
    "        self.optimizer.zero_grad()\n",
    "        loss.backward()\n",
    "        self.optimizer.step()\n",
    "        \n",
    "    def plot_progress(self):\n",
    "        df = pd.DataFrame(self.progress, columns=[\"loss\"])\n",
    "        df.plot(ylim=(0), figsize=(16, 8), alpha=0.1, marker=\".\", grid=True, yticks=(0, 0.25, 0.5, 1.0, 5.0))\n",
    "        \n",
    "    def plot_images(self, label):\n",
    "        label_tensor = torch.zeros((10))\n",
    "        label_tensor[label] = 1.0\n",
    "\n",
    "        fig, axes = plt.subplots(2, 3, figsize=(16, 8))\n",
    "        for ax in axes.ravel():\n",
    "            ax.imshow(G.forward(generate_random_seed(100), label_tensor).detach().cpu().numpy().reshape(28, 28), cmap=\"Blues\")"
   ]
  },
  {
   "cell_type": "code",
   "execution_count": null,
   "metadata": {},
   "outputs": [],
   "source": [
    "D = Discriminator()\n",
    "G = Generator()\n",
    "\n",
    "epochs = 12\n",
    "for epoch in range(epochs):\n",
    "    for label, image_data_tensor, label_tensor in mnist_dataset:\n",
    "        D.train(image_data_tensor, label_tensor, torch.Tensor([1.0]))\n",
    "\n",
    "        random_label = generate_random_one_hot(10)\n",
    "        D.train(G.forward(generate_random_seed(100), random_label).detach(), random_label, torch.Tensor([0.0]))\n",
    "\n",
    "        random_label = generate_random_one_hot(10)\n",
    "        G.train(D, generate_random_seed(100), random_label, torch.Tensor([1.0]))\n",
    "    "
   ]
  },
  {
   "cell_type": "code",
   "execution_count": null,
   "metadata": {},
   "outputs": [],
   "source": [
    "D.plot_progress()"
   ]
  },
  {
   "cell_type": "code",
   "execution_count": null,
   "metadata": {},
   "outputs": [],
   "source": [
    "G.plot_progress()"
   ]
  },
  {
   "cell_type": "code",
   "execution_count": null,
   "metadata": {},
   "outputs": [],
   "source": [
    "G.plot_images(9)"
   ]
  },
  {
   "cell_type": "code",
   "execution_count": null,
   "metadata": {},
   "outputs": [],
   "source": []
  },
  {
   "cell_type": "code",
   "execution_count": null,
   "metadata": {},
   "outputs": [],
   "source": [
    "# generator class\n",
    "\n",
    "class Generator(nn.Module):\n",
    "    \n",
    "    def __init__(self):\n",
    "        # initialise parent pytorch class\n",
    "        super().__init__()\n",
    "        \n",
    "        # define neural network layers\n",
    "        self.model = nn.Sequential(\n",
    "            nn.Linear(100+10, 200),\n",
    "            nn.LeakyReLU(0.02),\n",
    "\n",
    "            nn.LayerNorm(200),\n",
    "\n",
    "            nn.Linear(200, 784),\n",
    "            nn.Sigmoid()\n",
    "        )\n",
    "        self.model = self.model.cuda()\n",
    "        \n",
    "        # create optimiser, simple stochastic gradient descent\n",
    "        self.optimiser = torch.optim.Adam(self.parameters(), lr=0.0001)\n",
    "\n",
    "        # counter and accumulator for progress\n",
    "        self.counter = 0;\n",
    "        self.progress = []\n",
    "        \n",
    "        pass\n",
    "    \n",
    "    \n",
    "    def forward(self, seed_tensor, label_tensor):        \n",
    "        # combine seed and label\n",
    "        inputs = torch.cat((seed_tensor, label_tensor))\n",
    "        return self.model(inputs)\n",
    "\n",
    "\n",
    "    def train(self, D, inputs, label_tensor, targets):\n",
    "        # calculate the output of the network\n",
    "        g_output = self.forward(inputs, label_tensor)\n",
    "        \n",
    "        # pass onto Discriminator\n",
    "        d_output = D.forward(g_output, label_tensor)\n",
    "        \n",
    "        # calculate error\n",
    "        loss = D.loss_function(d_output, targets)\n",
    "\n",
    "        # increase counter and accumulate error every 10\n",
    "        self.counter += 1;\n",
    "        if (self.counter % 10 == 0):\n",
    "            self.progress.append(loss.item())\n",
    "            pass\n",
    "\n",
    "        # zero gradients, perform a backward pass, update weights\n",
    "        self.optimiser.zero_grad()\n",
    "        loss.backward()\n",
    "        self.optimiser.step()\n",
    "\n",
    "        pass\n",
    "    \n",
    "    def plot_images(self, label):\n",
    "        label_tensor = torch.zeros((10))\n",
    "        label_tensor[label] = 1.0\n",
    "        # plot a 3 column, 2 row array of sample images\n",
    "        f, axarr = plt.subplots(2,3, figsize=(16,8))\n",
    "        for i in range(2):\n",
    "            for j in range(3):\n",
    "                axarr[i,j].imshow(G.forward(generate_random_seed(100), label_tensor).detach().cpu().numpy().reshape(28,28), interpolation='none', cmap='Blues')\n",
    "                pass\n",
    "            pass\n",
    "        pass\n",
    "    \n",
    "    def plot_progress(self):\n",
    "        df = pd.DataFrame(self.progress, columns=['loss'])\n",
    "        df.plot(ylim=(0), figsize=(16,8), alpha=0.1, marker='.', grid=True, yticks=(0, 0.25, 0.5, 1.0, 5.0))\n",
    "        pass\n",
    "    \n",
    "    pass"
   ]
  },
  {
   "cell_type": "code",
   "execution_count": null,
   "metadata": {},
   "outputs": [],
   "source": [
    "# create Discriminator and Generator\n",
    "\n",
    "D = Discriminator()\n",
    "G = Generator()"
   ]
  },
  {
   "cell_type": "code",
   "execution_count": null,
   "metadata": {},
   "outputs": [],
   "source": [
    "%%time \n",
    "\n",
    "# train Discriminator and Generator\n",
    "\n",
    "epochs = 12\n",
    "\n",
    "for epoch in range(epochs):\n",
    "    print (\"epoch = \", epoch + 1)\n",
    "\n",
    "    # train Discriminator and Generator\n",
    "\n",
    "    for label, image_data_tensor, label_tensor in mnist_dataset:\n",
    "        # train discriminator on true\n",
    "        D.train(image_data_tensor, label_tensor, torch.Tensor([1.0]))\n",
    "\n",
    "        # random 1-hot label for generator\n",
    "        random_label = generate_random_one_hot(10)\n",
    "\n",
    "        # train discriminator on false\n",
    "        # use detach() so gradients in G are not calculated\n",
    "        D.train(G.forward(generate_random_seed(100), random_label).detach(), random_label, torch.Tensor([0.0]))\n",
    "\n",
    "        # different random 1-hot label for generator\n",
    "        random_label = generate_random_one_hot(10)\n",
    "\n",
    "        # train generator\n",
    "        G.train(D, generate_random_seed(100), random_label, torch.Tensor([1.0]))\n",
    "\n",
    "        pass\n",
    "\n",
    "    pass"
   ]
  },
  {
   "cell_type": "code",
   "execution_count": null,
   "metadata": {},
   "outputs": [],
   "source": [
    "G.plot_images(9)"
   ]
  },
  {
   "cell_type": "code",
   "execution_count": null,
   "metadata": {},
   "outputs": [],
   "source": []
  }
 ],
 "metadata": {
  "kernelspec": {
   "display_name": "Python 3",
   "language": "python",
   "name": "python3"
  },
  "language_info": {
   "codemirror_mode": {
    "name": "ipython",
    "version": 3
   },
   "file_extension": ".py",
   "mimetype": "text/x-python",
   "name": "python",
   "nbconvert_exporter": "python",
   "pygments_lexer": "ipython3",
   "version": "3.7.4"
  }
 },
 "nbformat": 4,
 "nbformat_minor": 4
}
