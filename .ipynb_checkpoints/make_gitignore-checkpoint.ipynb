{
 "cells": [
  {
   "cell_type": "code",
   "execution_count": 10,
   "metadata": {},
   "outputs": [
    {
     "name": "stdout",
     "output_type": "stream",
     "text": [
      "data/2020/build_difdir/build_difdir.dbf\n",
      "data/2020/NBR_IDX.npy\n",
      "data/df_ml0414.pkl\n",
      "data/df_ml0508.pkl\n",
      "210508/X2.pkl\n",
      "210508/X2g.pkl\n",
      "210708/X2_add.pkl\n",
      "210708/X2_id.pkl\n",
      "\n"
     ]
    }
   ],
   "source": [
    "import os\n",
    "\n",
    "files_50m = \"50m.txt\"\n",
    "\n",
    "# 1. find files larger than 50M\n",
    "cmd_50m = f\"find -size +50000k > {files_50m}\"\n",
    "os.system(cmd_50m)\n",
    "\n",
    "# 2. edit lines and save\n",
    "items = []\n",
    "line = \" \"\n",
    "with open(files_50m, \"r\") as rf:\n",
    "    wf = open(\".gitignore\", \"w\")\n",
    "    while len(line):\n",
    "        line = rf.readline()\n",
    "        if \".git\" not in line.split(\"/\"):\n",
    "            add_item = line.lstrip(\"./\")\n",
    "            items.append(add_item)\n",
    "            wf.write(add_item)\n",
    "    wf.close()\n",
    "\n",
    "# 3. verification\n",
    "list = [print(item.rstrip(\"\\n\")) for item in items]\n"
   ]
  },
  {
   "cell_type": "code",
   "execution_count": null,
   "metadata": {},
   "outputs": [],
   "source": []
  },
  {
   "cell_type": "code",
   "execution_count": null,
   "metadata": {},
   "outputs": [],
   "source": []
  }
 ],
 "metadata": {
  "kernelspec": {
   "display_name": "Python 3",
   "language": "python",
   "name": "python3"
  },
  "language_info": {
   "codemirror_mode": {
    "name": "ipython",
    "version": 3
   },
   "file_extension": ".py",
   "mimetype": "text/x-python",
   "name": "python",
   "nbconvert_exporter": "python",
   "pygments_lexer": "ipython3",
   "version": "3.7.4"
  }
 },
 "nbformat": 4,
 "nbformat_minor": 4
}
