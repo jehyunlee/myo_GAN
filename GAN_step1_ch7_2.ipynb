{
 "cells": [
  {
   "cell_type": "code",
   "execution_count": 1,
   "metadata": {},
   "outputs": [
    {
     "name": "stderr",
     "output_type": "stream",
     "text": [
      "In /opt/conda/lib/python3.7/site-packages/matplotlib/mpl-data/stylelib/_classic_test.mplstyle: \n",
      "The text.latex.preview rcparam was deprecated in Matplotlib 3.3 and will be removed two minor releases later.\n",
      "In /opt/conda/lib/python3.7/site-packages/matplotlib/mpl-data/stylelib/_classic_test.mplstyle: \n",
      "The mathtext.fallback_to_cm rcparam was deprecated in Matplotlib 3.3 and will be removed two minor releases later.\n",
      "In /opt/conda/lib/python3.7/site-packages/matplotlib/mpl-data/stylelib/_classic_test.mplstyle: Support for setting the 'mathtext.fallback_to_cm' rcParam is deprecated since 3.3 and will be removed two minor releases later; use 'mathtext.fallback : 'cm' instead.\n",
      "In /opt/conda/lib/python3.7/site-packages/matplotlib/mpl-data/stylelib/_classic_test.mplstyle: \n",
      "The validate_bool_maybe_none function was deprecated in Matplotlib 3.3 and will be removed two minor releases later.\n",
      "In /opt/conda/lib/python3.7/site-packages/matplotlib/mpl-data/stylelib/_classic_test.mplstyle: \n",
      "The savefig.jpeg_quality rcparam was deprecated in Matplotlib 3.3 and will be removed two minor releases later.\n",
      "In /opt/conda/lib/python3.7/site-packages/matplotlib/mpl-data/stylelib/_classic_test.mplstyle: \n",
      "The keymap.all_axes rcparam was deprecated in Matplotlib 3.3 and will be removed two minor releases later.\n",
      "In /opt/conda/lib/python3.7/site-packages/matplotlib/mpl-data/stylelib/_classic_test.mplstyle: \n",
      "The animation.avconv_path rcparam was deprecated in Matplotlib 3.3 and will be removed two minor releases later.\n",
      "In /opt/conda/lib/python3.7/site-packages/matplotlib/mpl-data/stylelib/_classic_test.mplstyle: \n",
      "The animation.avconv_args rcparam was deprecated in Matplotlib 3.3 and will be removed two minor releases later.\n"
     ]
    }
   ],
   "source": [
    "%matplotlib inline\n",
    "\n",
    "import numpy as np\n",
    "import pandas as pd\n",
    "import matplotlib.pyplot as plt\n",
    "import torch\n",
    "import torch.nn as nn"
   ]
  },
  {
   "cell_type": "code",
   "execution_count": 2,
   "metadata": {},
   "outputs": [],
   "source": [
    "from torch.utils.data import Dataset\n",
    "import random"
   ]
  },
  {
   "cell_type": "code",
   "execution_count": 3,
   "metadata": {},
   "outputs": [
    {
     "name": "stdout",
     "output_type": "stream",
     "text": [
      "using cuda: Tesla V100-PCIE-32GB\n"
     ]
    },
    {
     "data": {
      "text/plain": [
       "device(type='cuda')"
      ]
     },
     "execution_count": 3,
     "metadata": {},
     "output_type": "execute_result"
    }
   ],
   "source": [
    "# GPU사용 설정\n",
    "\n",
    "if torch.cuda.is_available():\n",
    "    torch.set_default_tensor_type(torch.cuda.FloatTensor)\n",
    "    print(\"using cuda:\", torch.cuda.get_device_name(0))\n",
    "    pass\n",
    "\n",
    "device = torch.device(\"cuda\" if torch.cuda.is_available() else \"cpu\")\n",
    "\n",
    "device"
   ]
  },
  {
   "cell_type": "code",
   "execution_count": 4,
   "metadata": {},
   "outputs": [
    {
     "name": "stdout",
     "output_type": "stream",
     "text": [
      "Current cuda device  1\n",
      "Tesla V100-PCIE-32GB\n",
      "Memory Usage:\n",
      "Allocated: 0.0 GB\n",
      "Cached:    0.0 GB\n"
     ]
    },
    {
     "name": "stderr",
     "output_type": "stream",
     "text": [
      "/opt/conda/lib/python3.7/site-packages/torch/cuda/memory.py:346: FutureWarning: torch.cuda.memory_cached has been renamed to torch.cuda.memory_reserved\n",
      "  FutureWarning)\n"
     ]
    }
   ],
   "source": [
    "# GPU 할당 변경하기\n",
    "GPU_NUM = 1 # 원하는 GPU 번호 입력\n",
    "device = torch.device(f'cuda:{GPU_NUM}' if torch.cuda.is_available() else 'cpu')\n",
    "torch.cuda.set_device(device) # change allocation of current GPU\n",
    "\n",
    "print ('Current cuda device ', torch.cuda.current_device()) # check\n",
    "\n",
    "# Additional Infos\n",
    "if device.type == 'cuda':\n",
    "    print(torch.cuda.get_device_name(GPU_NUM))\n",
    "    print('Memory Usage:')\n",
    "    print('Allocated:', round(torch.cuda.memory_allocated(GPU_NUM)/1024**3,1), 'GB')\n",
    "    print('Cached:   ', round(torch.cuda.memory_cached(GPU_NUM)/1024**3,1), 'GB')"
   ]
  },
  {
   "cell_type": "code",
   "execution_count": 5,
   "metadata": {},
   "outputs": [],
   "source": [
    "class MnistDataset(Dataset):\n",
    "    def __init__(self, csv_file):\n",
    "        self.data_df = pd.read_csv(csv_file, header=None)\n",
    "        \n",
    "    def __len__(self):\n",
    "        return len(self.data_df)\n",
    "    \n",
    "    def __getitem__(self, index):\n",
    "        label = self.data_df.iloc[index, 0]\n",
    "        target = torch.zeros((10))\n",
    "        target[label] = 1.0\n",
    "        \n",
    "        image_values = torch.Tensor(self.data_df.iloc[index, 1:].values)/255.0\n",
    "        \n",
    "        return label, image_values, target\n",
    "    \n",
    "    def plot_image(self, index):\n",
    "        img = self.data_df.iloc[index, 1:].values.reshape(28, 28)\n",
    "        plt.title(f\"label= {self.data_df.iloc[index, 0]}\")\n",
    "        plt.imshow(img, interpolation=\"none\", cmap=\"Blues\")\n",
    "        "
   ]
  },
  {
   "cell_type": "code",
   "execution_count": 6,
   "metadata": {},
   "outputs": [
    {
     "data": {
      "image/png": "[encoded data removed]",
      "text/plain": [
       "<Figure size 432x288 with 1 Axes>"
      ]
     },
     "metadata": {
      "needs_background": "light"
     },
     "output_type": "display_data"
    }
   ],
   "source": [
    "mnist_dataset = MnistDataset(\"./myo_gan/mnist_train.csv\")\n",
    "mnist_dataset.plot_image(17)"
   ]
  },
  {
   "cell_type": "code",
   "execution_count": 27,
   "metadata": {},
   "outputs": [],
   "source": [
    "class Discriminator(nn.Module):\n",
    "    \n",
    "    def __init__(self):\n",
    "        super().__init__()\n",
    "        self.model = nn.Sequential(nn.Linear(784, 200),\n",
    "                                   nn.LeakyReLU(0.02),\n",
    "                                   nn.LayerNorm(200),\n",
    "                                   nn.Linear(200, 1),\n",
    "                                   nn.Sigmoid()\n",
    "                                  )\n",
    "        self.model = self.model.cuda()\n",
    "        self.loss_function = nn.BCELoss()\n",
    "        self.optimizer = torch.optim.Adam(self.parameters(), lr=0.0001)\n",
    "        \n",
    "        self.counter = 0\n",
    "        self.progress = []\n",
    "        \n",
    "        self.outputs = 0\n",
    "        \n",
    "    def forward(self, inputs):\n",
    "        return self.model(inputs)\n",
    "    \n",
    "    def train(self, inputs, targets):\n",
    "        self.outputs = self.forward(inputs)\n",
    "        \n",
    "        loss = self.loss_function(self.outputs, targets)\n",
    "        \n",
    "        self.counter += 1\n",
    "        if (self.counter % 10 == 0):\n",
    "            self.progress.append(loss.item())\n",
    "        \n",
    "        if (self.counter % 1000000 == 0):\n",
    "            print(f\"counter = {self.counter}\")\n",
    "            \n",
    "        self.optimizer.zero_grad()\n",
    "        loss.backward()\n",
    "        self.optimizer.step()\n",
    "        \n",
    "    def plot_progress(self):\n",
    "        df = pd.DataFrame(self.progress, columns=[\"loss\"])\n",
    "        df.plot(ylim=(0), figsize=(16, 8), alpha=0.1, marker=\".\", \n",
    "                grid=True, yticks=(0, 0.25, 0.5, 1.0, 5.0))"
   ]
  },
  {
   "cell_type": "code",
   "execution_count": 8,
   "metadata": {},
   "outputs": [],
   "source": [
    "def generate_random_image(size):\n",
    "    return torch.rand(size)"
   ]
  },
  {
   "cell_type": "code",
   "execution_count": 9,
   "metadata": {},
   "outputs": [],
   "source": [
    "def generate_random_seed(size):\n",
    "    return torch.randn(size)"
   ]
  },
  {
   "cell_type": "code",
   "execution_count": 12,
   "metadata": {},
   "outputs": [
    {
     "name": "stdout",
     "output_type": "stream",
     "text": [
      "counter = 10000\n",
      "counter = 20000\n",
      "counter = 30000\n",
      "counter = 40000\n",
      "counter = 50000\n",
      "counter = 60000\n",
      "counter = 70000\n",
      "counter = 80000\n",
      "counter = 90000\n",
      "counter = 100000\n",
      "counter = 110000\n",
      "counter = 120000\n"
     ]
    }
   ],
   "source": [
    "D = Discriminator()\n",
    "\n",
    "for label, image_data_tensor, target_tensor in mnist_dataset:\n",
    "    # 숫자 이미지는 1\n",
    "    D.train(image_data_tensor, torch.Tensor([1.0]))\n",
    "        \n",
    "    # 랜덤 이미지는 0\n",
    "    D.train(generate_random_seed(784), torch.Tensor([0.0]))\n",
    "    "
   ]
  },
  {
   "cell_type": "code",
   "execution_count": 13,
   "metadata": {},
   "outputs": [
    {
     "name": "stdout",
     "output_type": "stream",
     "text": [
      "0.9999817609786987\n",
      "0.9999831914901733\n",
      "0.9999580383300781\n",
      "0.9999834299087524\n",
      "0.9999734163284302\n",
      "0.9999749660491943\n",
      "0.9999740123748779\n",
      "0.9999706745147705\n"
     ]
    }
   ],
   "source": [
    "for i in range(4):\n",
    "    image_data_tensor = mnist_dataset[random.randint(0,60000)][1]\n",
    "    print( D.forward( image_data_tensor ).item() )\n",
    "    pass\n",
    "\n",
    "for i in range(4):\n",
    "    print( D.forward( generate_random_image(784) ).item() )\n",
    "    pass"
   ]
  },
  {
   "cell_type": "code",
   "execution_count": 14,
   "metadata": {},
   "outputs": [
    {
     "data": {
      "image/png": "[encoded data removed]",
      "text/plain": [
       "<Figure size 1152x576 with 1 Axes>"
      ]
     },
     "metadata": {
      "needs_background": "light"
     },
     "output_type": "display_data"
    }
   ],
   "source": [
    "D.plot_progress()"
   ]
  },
  {
   "cell_type": "code",
   "execution_count": 15,
   "metadata": {},
   "outputs": [
    {
     "name": "stdout",
     "output_type": "stream",
     "text": [
      "0.9999804496765137\n",
      "0.9999639987945557\n",
      "0.9999827146530151\n",
      "0.9999816417694092\n"
     ]
    }
   ],
   "source": [
    "for i in range(4):\n",
    "    image_data_tensor = mnist_dataset[random.randint(0, 60000)][1]\n",
    "    print(D.forward(image_data_tensor).item())"
   ]
  },
  {
   "cell_type": "code",
   "execution_count": 16,
   "metadata": {},
   "outputs": [
    {
     "name": "stdout",
     "output_type": "stream",
     "text": [
      "0.999968409538269\n",
      "0.999966025352478\n",
      "0.9999738931655884\n",
      "0.9999743700027466\n"
     ]
    }
   ],
   "source": [
    "for i in range(4):\n",
    "    print(D.forward(generate_random_image(784)).item())"
   ]
  },
  {
   "cell_type": "code",
   "execution_count": 17,
   "metadata": {},
   "outputs": [],
   "source": [
    "class Generator(nn.Module):\n",
    "    def __init__(self):\n",
    "        super().__init__()\n",
    "        \n",
    "        self.model = nn.Sequential(nn.Linear(100, 200), \n",
    "                                   nn.LeakyReLU(0.02),\n",
    "                                   nn.LayerNorm(200),\n",
    "                                   nn.Linear(200, 784),\n",
    "                                   nn.Sigmoid()\n",
    "                                  )\n",
    "        \n",
    "        self.optimizer = torch.optim.Adam(self.parameters(), lr=0.0001)\n",
    "        \n",
    "        self.counter = 0\n",
    "        self.progress = []\n",
    "        \n",
    "    def forward(self, inputs):\n",
    "        return self.model(inputs)\n",
    "    \n",
    "    def train(self, D, inputs, targets):\n",
    "        g_output = self.forward(inputs)\n",
    "        \n",
    "        d_output = D.forward(g_output)\n",
    "        \n",
    "        loss = D.loss_function(d_output, targets)\n",
    "        \n",
    "        self.counter += 1\n",
    "        if (self.counter % 10 == 0):\n",
    "            self.progress.append(loss.item())\n",
    "            \n",
    "        self.optimizer.zero_grad()\n",
    "        loss.backward()\n",
    "        self.optimizer.step()\n",
    "        \n",
    "    def plot_progress(self):\n",
    "        df = pd.DataFrame(self.progress, columns=[\"loss\"])\n",
    "        df.plot(ylim=(0), figsize=(16, 8), alpha=0.1, marker=\".\", \n",
    "                grid=True, yticks=(0, 0.25, 0.5, 1.0, 5.0))"
   ]
  },
  {
   "cell_type": "code",
   "execution_count": 18,
   "metadata": {},
   "outputs": [
    {
     "data": {
      "text/plain": [
       "<matplotlib.image.AxesImage at 0x7f52449f0990>"
      ]
     },
     "execution_count": 18,
     "metadata": {},
     "output_type": "execute_result"
    },
    {
     "data": {
      "image/png": "[encoded data removed]",
      "text/plain": [
       "<Figure size 432x288 with 1 Axes>"
      ]
     },
     "metadata": {
      "needs_background": "light"
     },
     "output_type": "display_data"
    }
   ],
   "source": [
    "G = Generator()\n",
    "output = G.forward(generate_random_seed(100))\n",
    "img = output.detach().cpu().numpy().reshape(28, 28)\n",
    "plt.imshow(img, cmap=\"Blues\")"
   ]
  },
  {
   "cell_type": "code",
   "execution_count": 32,
   "metadata": {},
   "outputs": [
    {
     "name": "stdout",
     "output_type": "stream",
     "text": [
      "epoch =  1\n",
      "epoch =  2\n",
      "epoch =  3\n",
      "epoch =  4\n",
      "epoch =  5\n",
      "epoch =  6\n",
      "epoch =  7\n",
      "epoch =  8\n",
      "epoch =  9\n",
      "counter = 1000000\n",
      "epoch =  10\n",
      "epoch =  11\n",
      "epoch =  12\n",
      "epoch =  13\n",
      "epoch =  14\n",
      "epoch =  15\n",
      "epoch =  16\n",
      "epoch =  17\n",
      "counter = 2000000\n",
      "epoch =  18\n",
      "epoch =  19\n",
      "epoch =  20\n",
      "epoch =  21\n",
      "epoch =  22\n",
      "epoch =  23\n",
      "epoch =  24\n",
      "epoch =  25\n",
      "counter = 3000000\n",
      "epoch =  26\n",
      "epoch =  27\n",
      "epoch =  28\n",
      "epoch =  29\n",
      "epoch =  30\n",
      "epoch =  31\n",
      "epoch =  32\n",
      "epoch =  33\n",
      "epoch =  34\n",
      "counter = 4000000\n",
      "epoch =  35\n",
      "epoch =  36\n",
      "epoch =  37\n",
      "epoch =  38\n",
      "epoch =  39\n",
      "epoch =  40\n",
      "epoch =  41\n",
      "epoch =  42\n",
      "counter = 5000000\n",
      "epoch =  43\n",
      "epoch =  44\n",
      "epoch =  45\n",
      "epoch =  46\n",
      "epoch =  47\n",
      "epoch =  48\n",
      "epoch =  49\n",
      "epoch =  50\n",
      "counter = 6000000\n",
      "epoch =  51\n",
      "epoch =  52\n",
      "epoch =  53\n",
      "epoch =  54\n",
      "epoch =  55\n",
      "epoch =  56\n",
      "epoch =  57\n",
      "epoch =  58\n",
      "epoch =  59\n",
      "counter = 7000000\n",
      "epoch =  60\n",
      "epoch =  61\n",
      "epoch =  62\n",
      "epoch =  63\n",
      "epoch =  64\n",
      "epoch =  65\n",
      "epoch =  66\n",
      "epoch =  67\n",
      "counter = 8000000\n",
      "epoch =  68\n",
      "epoch =  69\n",
      "epoch =  70\n",
      "epoch =  71\n",
      "epoch =  72\n",
      "epoch =  73\n",
      "epoch =  74\n",
      "epoch =  75\n",
      "counter = 9000000\n",
      "epoch =  76\n",
      "epoch =  77\n",
      "epoch =  78\n",
      "epoch =  79\n",
      "epoch =  80\n",
      "epoch =  81\n",
      "epoch =  82\n",
      "epoch =  83\n",
      "epoch =  84\n",
      "counter = 10000000\n",
      "epoch =  85\n",
      "epoch =  86\n",
      "epoch =  87\n",
      "epoch =  88\n",
      "epoch =  89\n",
      "epoch =  90\n",
      "epoch =  91\n",
      "epoch =  92\n",
      "counter = 11000000\n",
      "epoch =  93\n",
      "epoch =  94\n",
      "epoch =  95\n",
      "epoch =  96\n",
      "epoch =  97\n",
      "epoch =  98\n",
      "epoch =  99\n",
      "epoch =  100\n",
      "counter = 12000000\n",
      "epoch =  101\n",
      "epoch =  102\n",
      "epoch =  103\n",
      "epoch =  104\n",
      "epoch =  105\n",
      "epoch =  106\n",
      "epoch =  107\n",
      "epoch =  108\n",
      "epoch =  109\n",
      "counter = 13000000\n",
      "epoch =  110\n",
      "epoch =  111\n",
      "epoch =  112\n",
      "epoch =  113\n",
      "epoch =  114\n",
      "epoch =  115\n",
      "epoch =  116\n",
      "epoch =  117\n",
      "counter = 14000000\n",
      "epoch =  118\n",
      "epoch =  119\n",
      "epoch =  120\n",
      "epoch =  121\n",
      "epoch =  122\n",
      "epoch =  123\n",
      "epoch =  124\n",
      "epoch =  125\n",
      "counter = 15000000\n",
      "epoch =  126\n",
      "epoch =  127\n",
      "epoch =  128\n",
      "epoch =  129\n",
      "epoch =  130\n",
      "epoch =  131\n",
      "epoch =  132\n",
      "epoch =  133\n",
      "epoch =  134\n",
      "counter = 16000000\n",
      "epoch =  135\n",
      "epoch =  136\n",
      "epoch =  137\n",
      "epoch =  138\n",
      "epoch =  139\n",
      "epoch =  140\n",
      "epoch =  141\n",
      "epoch =  142\n",
      "counter = 17000000\n",
      "epoch =  143\n",
      "epoch =  144\n",
      "epoch =  145\n",
      "epoch =  146\n",
      "epoch =  147\n",
      "epoch =  148\n",
      "epoch =  149\n",
      "epoch =  150\n",
      "counter = 18000000\n",
      "epoch =  151\n",
      "epoch =  152\n",
      "epoch =  153\n",
      "epoch =  154\n",
      "epoch =  155\n",
      "epoch =  156\n",
      "epoch =  157\n",
      "epoch =  158\n",
      "epoch =  159\n",
      "counter = 19000000\n",
      "epoch =  160\n",
      "epoch =  161\n",
      "epoch =  162\n",
      "epoch =  163\n",
      "epoch =  164\n",
      "epoch =  165\n",
      "epoch =  166\n",
      "epoch =  167\n",
      "counter = 20000000\n",
      "epoch =  168\n",
      "epoch =  169\n",
      "epoch =  170\n",
      "epoch =  171\n",
      "epoch =  172\n",
      "epoch =  173\n",
      "epoch =  174\n",
      "epoch =  175\n",
      "counter = 21000000\n",
      "epoch =  176\n",
      "epoch =  177\n",
      "epoch =  178\n",
      "epoch =  179\n",
      "epoch =  180\n",
      "epoch =  181\n",
      "epoch =  182\n",
      "epoch =  183\n",
      "epoch =  184\n",
      "counter = 22000000\n",
      "epoch =  185\n",
      "epoch =  186\n",
      "epoch =  187\n",
      "epoch =  188\n",
      "epoch =  189\n",
      "epoch =  190\n",
      "epoch =  191\n",
      "epoch =  192\n",
      "counter = 23000000\n",
      "epoch =  193\n",
      "epoch =  194\n",
      "epoch =  195\n",
      "epoch =  196\n",
      "epoch =  197\n",
      "epoch =  198\n",
      "epoch =  199\n",
      "epoch =  200\n",
      "counter = 24000000\n",
      "epoch =  201\n",
      "epoch =  202\n",
      "epoch =  203\n",
      "epoch =  204\n",
      "epoch =  205\n",
      "epoch =  206\n",
      "epoch =  207\n",
      "epoch =  208\n",
      "epoch =  209\n",
      "counter = 25000000\n",
      "epoch =  210\n",
      "epoch =  211\n",
      "epoch =  212\n",
      "epoch =  213\n",
      "epoch =  214\n",
      "epoch =  215\n",
      "epoch =  216\n",
      "epoch =  217\n",
      "counter = 26000000\n",
      "epoch =  218\n",
      "epoch =  219\n",
      "epoch =  220\n",
      "epoch =  221\n",
      "epoch =  222\n",
      "epoch =  223\n",
      "epoch =  224\n",
      "epoch =  225\n",
      "counter = 27000000\n",
      "epoch =  226\n",
      "epoch =  227\n",
      "epoch =  228\n",
      "epoch =  229\n",
      "epoch =  230\n",
      "epoch =  231\n",
      "epoch =  232\n",
      "epoch =  233\n",
      "epoch =  234\n",
      "counter = 28000000\n",
      "epoch =  235\n",
      "epoch =  236\n",
      "epoch =  237\n",
      "epoch =  238\n",
      "epoch =  239\n",
      "epoch =  240\n",
      "epoch =  241\n",
      "epoch =  242\n",
      "counter = 29000000\n",
      "epoch =  243\n",
      "epoch =  244\n",
      "epoch =  245\n",
      "epoch =  246\n",
      "epoch =  247\n",
      "epoch =  248\n",
      "epoch =  249\n",
      "epoch =  250\n",
      "counter = 30000000\n",
      "epoch =  251\n",
      "epoch =  252\n",
      "epoch =  253\n",
      "epoch =  254\n",
      "epoch =  255\n",
      "epoch =  256\n",
      "epoch =  257\n",
      "epoch =  258\n",
      "epoch =  259\n",
      "counter = 31000000\n",
      "epoch =  260\n",
      "epoch =  261\n",
      "epoch =  262\n",
      "epoch =  263\n",
      "epoch =  264\n",
      "epoch =  265\n",
      "epoch =  266\n",
      "epoch =  267\n",
      "counter = 32000000\n",
      "epoch =  268\n",
      "epoch =  269\n",
      "epoch =  270\n",
      "epoch =  271\n",
      "epoch =  272\n",
      "epoch =  273\n",
      "epoch =  274\n",
      "epoch =  275\n",
      "counter = 33000000\n",
      "epoch =  276\n",
      "epoch =  277\n",
      "epoch =  278\n",
      "epoch =  279\n",
      "epoch =  280\n",
      "epoch =  281\n",
      "epoch =  282\n",
      "epoch =  283\n",
      "epoch =  284\n",
      "counter = 34000000\n",
      "epoch =  285\n",
      "epoch =  286\n",
      "epoch =  287\n",
      "epoch =  288\n",
      "epoch =  289\n",
      "epoch =  290\n",
      "epoch =  291\n",
      "epoch =  292\n",
      "counter = 35000000\n",
      "epoch =  293\n",
      "epoch =  294\n",
      "epoch =  295\n",
      "epoch =  296\n",
      "epoch =  297\n",
      "epoch =  298\n",
      "epoch =  299\n",
      "epoch =  300\n",
      "counter = 36000000\n",
      "epoch =  301\n",
      "epoch =  302\n",
      "epoch =  303\n",
      "epoch =  304\n",
      "epoch =  305\n",
      "epoch =  306\n",
      "epoch =  307\n",
      "epoch =  308\n",
      "epoch =  309\n",
      "counter = 37000000\n",
      "epoch =  310\n",
      "epoch =  311\n",
      "epoch =  312\n",
      "epoch =  313\n",
      "epoch =  314\n",
      "epoch =  315\n",
      "epoch =  316\n",
      "epoch =  317\n",
      "counter = 38000000\n",
      "epoch =  318\n",
      "epoch =  319\n",
      "epoch =  320\n",
      "epoch =  321\n",
      "epoch =  322\n",
      "epoch =  323\n",
      "epoch =  324\n",
      "epoch =  325\n",
      "counter = 39000000\n",
      "epoch =  326\n",
      "epoch =  327\n",
      "epoch =  328\n",
      "epoch =  329\n",
      "epoch =  330\n",
      "epoch =  331\n",
      "epoch =  332\n",
      "epoch =  333\n",
      "epoch =  334\n",
      "counter = 40000000\n",
      "epoch =  335\n",
      "epoch =  336\n",
      "epoch =  337\n",
      "epoch =  338\n",
      "epoch =  339\n",
      "epoch =  340\n",
      "epoch =  341\n",
      "epoch =  342\n",
      "counter = 41000000\n",
      "epoch =  343\n",
      "epoch =  344\n",
      "epoch =  345\n",
      "epoch =  346\n",
      "epoch =  347\n",
      "epoch =  348\n",
      "epoch =  349\n",
      "epoch =  350\n",
      "counter = 42000000\n",
      "epoch =  351\n",
      "epoch =  352\n",
      "epoch =  353\n",
      "epoch =  354\n",
      "epoch =  355\n",
      "epoch =  356\n",
      "epoch =  357\n",
      "epoch =  358\n",
      "epoch =  359\n",
      "counter = 43000000\n",
      "epoch =  360\n",
      "epoch =  361\n",
      "epoch =  362\n",
      "epoch =  363\n",
      "epoch =  364\n",
      "epoch =  365\n",
      "epoch =  366\n",
      "epoch =  367\n",
      "counter = 44000000\n",
      "epoch =  368\n",
      "epoch =  369\n",
      "epoch =  370\n",
      "epoch =  371\n",
      "epoch =  372\n",
      "epoch =  373\n",
      "epoch =  374\n",
      "epoch =  375\n",
      "counter = 45000000\n",
      "epoch =  376\n",
      "epoch =  377\n",
      "epoch =  378\n",
      "epoch =  379\n",
      "epoch =  380\n",
      "epoch =  381\n",
      "epoch =  382\n",
      "epoch =  383\n",
      "epoch =  384\n",
      "counter = 46000000\n",
      "epoch =  385\n",
      "epoch =  386\n",
      "epoch =  387\n",
      "epoch =  388\n",
      "epoch =  389\n",
      "epoch =  390\n",
      "epoch =  391\n",
      "epoch =  392\n",
      "counter = 47000000\n",
      "epoch =  393\n",
      "epoch =  394\n",
      "epoch =  395\n",
      "epoch =  396\n",
      "epoch =  397\n",
      "epoch =  398\n",
      "epoch =  399\n",
      "epoch =  400\n",
      "counter = 48000000\n",
      "CPU times: user 1d 22h 56min 38s, sys: 32min 39s, total: 1d 23h 29min 18s\n",
      "Wall time: 2d 7h 8min 32s\n"
     ]
    }
   ],
   "source": [
    "%%time\n",
    "\n",
    "D = Discriminator()\n",
    "G = Generator()\n",
    "\n",
    "epochs = 400\n",
    "for epoch in range(epochs):\n",
    "    print (\"epoch = \", epoch + 1)\n",
    "\n",
    "    for label, image_data_tensor, target_tensor in mnist_dataset:\n",
    "\n",
    "        # 참에 대해 판별기 훈련\n",
    "        D.train(image_data_tensor, torch.Tensor([1.0]))\n",
    "\n",
    "        # 거짓에 대해 판별기 훈련\n",
    "        D.train(G.forward(generate_random_seed(100)).detach(), torch.Tensor([0.0]))\n",
    "\n",
    "        # 생성기 훈련\n",
    "        G.train(D, generate_random_seed(100), torch.Tensor([1.0]))"
   ]
  },
  {
   "cell_type": "code",
   "execution_count": 33,
   "metadata": {},
   "outputs": [
    {
     "data": {
      "image/png": "[encoded data removed]",
      "text/plain": [
       "<Figure size 1152x576 with 1 Axes>"
      ]
     },
     "metadata": {
      "needs_background": "light"
     },
     "output_type": "display_data"
    }
   ],
   "source": [
    "D.plot_progress()"
   ]
  },
  {
   "cell_type": "code",
   "execution_count": 34,
   "metadata": {},
   "outputs": [
    {
     "data": {
      "image/png": "[encoded data removed]",
      "text/plain": [
       "<Figure size 1152x576 with 1 Axes>"
      ]
     },
     "metadata": {
      "needs_background": "light"
     },
     "output_type": "display_data"
    }
   ],
   "source": [
    "G.plot_progress()"
   ]
  },
  {
   "cell_type": "code",
   "execution_count": 35,
   "metadata": {},
   "outputs": [
    {
     "data": {
      "image/png": "[encoded data removed]",
      "text/plain": [
       "<Figure size 1152x576 with 6 Axes>"
      ]
     },
     "metadata": {
      "needs_background": "light"
     },
     "output_type": "display_data"
    }
   ],
   "source": [
    "f, axes = plt.subplots(2, 3, figsize=(16, 8))\n",
    "axs = axes.ravel()\n",
    "\n",
    "for ax in axs:\n",
    "    output = G.forward(generate_random_seed(100))\n",
    "    img = output.detach().cpu().numpy().reshape(28, 28)\n",
    "    ax.imshow(img, cmap=\"Blues\")"
   ]
  },
  {
   "cell_type": "code",
   "execution_count": null,
   "metadata": {},
   "outputs": [],
   "source": []
  },
  {
   "cell_type": "code",
   "execution_count": null,
   "metadata": {},
   "outputs": [],
   "source": []
  }
 ],
 "metadata": {
  "kernelspec": {
   "display_name": "Python 3",
   "language": "python",
   "name": "python3"
  },
  "language_info": {
   "codemirror_mode": {
    "name": "ipython",
    "version": 3
   },
   "file_extension": ".py",
   "mimetype": "text/x-python",
   "name": "python",
   "nbconvert_exporter": "python",
   "pygments_lexer": "ipython3",
   "version": "3.7.4"
  }
 },
 "nbformat": 4,
 "nbformat_minor": 4
}
